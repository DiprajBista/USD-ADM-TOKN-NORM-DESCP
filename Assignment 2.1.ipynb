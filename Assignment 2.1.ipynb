{
 "cells": [
  {
   "cell_type": "markdown",
   "id": "7f79baf9",
   "metadata": {},
   "source": [
    "# ADS 509 Assignment 2.1: Tokenization, Normalization, Descriptive Statistics \n",
    "\n",
    "This notebook holds Assignment 2.1 for Module 2 in ADS 509, Applied Text Mining. Work through this notebook, writing code and answering questions where required. \n",
    "\n",
    "In the previous assignment you pulled lyrics data on two artists. In this assignment we explore this data set and a pull from the now-defunct Twitter API for the artists Cher and Robyn.  If, for some reason, you did not complete that previous assignment, data to use for this assignment can be found in the assignment materials section of Canvas. \n",
    "\n",
    "This assignment asks you to write a short function to calculate some descriptive statistics on a piece of text. Then you are asked to find some interesting and unique statistics on your corpora. \n"
   ]
  },
  {
   "cell_type": "markdown",
   "id": "aae8e2e1",
   "metadata": {},
   "source": [
    "## General Assignment Instructions\n",
    "\n",
    "These instructions are included in every assignment, to remind you of the coding standards for the class. Feel free to delete this cell after reading it. \n",
    "\n",
    "One sign of mature code is conforming to a style guide. We recommend the [Google Python Style Guide](https://google.github.io/styleguide/pyguide.html). If you use a different style guide, please include a cell with a link. \n",
    "\n",
    "Your code should be relatively easy-to-read, sensibly commented, and clean. Writing code is a messy process, so please be sure to edit your final submission. Remove any cells that are not needed or parts of cells that contain unnecessary code. Remove inessential `import` statements and make sure that all such statements are moved into the designated cell. \n",
    "\n",
    "Make use of non-code cells for written commentary. These cells should be grammatical and clearly written. In some of these cells you will have questions to answer. The questions will be marked by a \"Q:\" and will have a corresponding \"A:\" spot for you. *Make sure to answer every question marked with a `Q:` for full credit.* \n"
   ]
  },
  {
   "cell_type": "code",
   "execution_count": 1,
   "id": "e2d096b7",
   "metadata": {},
   "outputs": [],
   "source": [
    "import os\n",
    "import re\n",
    "import emoji\n",
    "import pandas as pd\n",
    "import numpy as np\n",
    "\n",
    "import nltk\n",
    "# nltk.download('stopwords')\n",
    "\n",
    "from collections import Counter, defaultdict\n",
    "from nltk.corpus import stopwords\n",
    "from string import punctuation\n",
    "\n",
    "sw = stopwords.words(\"english\")"
   ]
  },
  {
   "cell_type": "code",
   "execution_count": 21,
   "id": "6b555ab2",
   "metadata": {},
   "outputs": [],
   "source": [
    "# Add any additional import statements you need here\n",
    "# To speeds up comparison in further stpes.\n",
    "punctuation = set(punctuation)  \n",
    "import matplotlib.pyplot as plt\n",
    "import numpy as np\n",
    "import pandas as pd"
   ]
  },
  {
   "cell_type": "code",
   "execution_count": 3,
   "id": "923b5a86",
   "metadata": {},
   "outputs": [],
   "source": [
    "# change `data_location` to the location of the folder on your machine.\n",
    "data_location = \"/users/bista/OneDrive/Desktop/Desktop/ADS 509 Applied Text Mining/Assignment 2/\"\n",
    "\n",
    "# These subfolders should still work if you correctly stored the \n",
    "# data from the Module 1 assignment. \n",
    "# Using Cher and Robyn lyrics for this assignment. \n",
    "twitter_folder = \"twitter/\"\n",
    "lyrics_folder = \"lyrics/\""
   ]
  },
  {
   "cell_type": "code",
   "execution_count": 4,
   "id": "211fede3",
   "metadata": {},
   "outputs": [],
   "source": [
    "\n",
    "def descriptive_stats(tokens, num_tokens = 5, verbose=True) :\n",
    "    \"\"\"\n",
    "        Given a list of tokens, print number of tokens, number of unique tokens, \n",
    "        number of characters, lexical diversity (https://en.wikipedia.org/wiki/Lexical_diversity), \n",
    "        and num_tokens most common tokens. Return a list with the number of tokens, number\n",
    "        of unique tokens, lexical diversity, and number of characters. \n",
    "    \n",
    "    \"\"\"\n",
    "\n",
    "    # Replace the void values here with in the correct values here. \n",
    "    num_tokens = len(tokens)\n",
    "    num_unique_tokens = len(set(tokens))\n",
    "    lexical_diversity = num_unique_tokens / num_tokens if num_tokens > 0 else 0\n",
    "    num_characters = sum(len(token) for token in tokens)\n",
    "    \n",
    "    if verbose :        \n",
    "        print(f\"There are {num_tokens} tokens in the data.\")\n",
    "        print(f\"There are {num_unique_tokens} unique tokens in the data.\")\n",
    "        print(f\"There are {num_characters} characters in the data.\")\n",
    "        print(f\"The lexical diversity is {lexical_diversity:.3f} in the data.\")\n",
    "    \n",
    "        # The five most common tokens from the above data.\n",
    "        \n",
    "    return([num_tokens, num_unique_tokens,\n",
    "            lexical_diversity,\n",
    "            num_characters])"
   ]
  },
  {
   "cell_type": "code",
   "execution_count": 5,
   "id": "bd88d2ab",
   "metadata": {},
   "outputs": [
    {
     "name": "stdout",
     "output_type": "stream",
     "text": [
      "There are 13 tokens in the data.\n",
      "There are 9 unique tokens in the data.\n",
      "There are 55 characters in the data.\n",
      "The lexical diversity is 0.692 in the data.\n"
     ]
    }
   ],
   "source": [
    "\n",
    "text = \"\"\"here is some example text with other example text here in this text\"\"\".split()\n",
    "assert(descriptive_stats(text, verbose=True)[0] == 13)\n",
    "assert(descriptive_stats(text, verbose=False)[1] == 9)\n",
    "assert(abs(descriptive_stats(text, verbose=False)[2] - 0.69) < 0.02)\n",
    "assert(descriptive_stats(text, verbose=False)[3] == 55)"
   ]
  },
  {
   "cell_type": "markdown",
   "id": "d2e7e1a2",
   "metadata": {},
   "source": [
    "Q: Why is it beneficial to use assertion statements in your code? \n",
    "\n",
    "A: Some of the beifits of using assertion statement includes detection of error in early phase of analysis, they provide opportinity to debug the code, this also facilitates to check code automatically, etc. Here, the token number, no. of unique token, charater numbers and lexical diversity provides inital code information and establishes code integrity. "
   ]
  },
  {
   "cell_type": "markdown",
   "id": "9d3bf93e",
   "metadata": {},
   "source": [
    "## Data Input\n",
    "\n",
    "Now read in each of the corpora. For the lyrics data, it may be convenient to store the entire contents of the file to make it easier to inspect the titles individually, as you'll do in the last part of the assignment. In the solution, I stored the lyrics data in a dictionary with two dimensions of keys: artist and song. The value was the file contents. A data frame would work equally well. \n",
    "\n",
    "For the Twitter data, we only need the description field for this assignment. Feel free all the descriptions read it into a data structure. In the solution, I stored the descriptions as a dictionary of lists, with the key being the artist. \n",
    "\n",
    "\n"
   ]
  },
  {
   "cell_type": "code",
   "execution_count": 6,
   "id": "6dad63e4",
   "metadata": {},
   "outputs": [],
   "source": [
    "\n",
    "# Read in the lyrics data\n",
    "lyrics_data = defaultdict(dict)\n",
    "for artist_folder in os.listdir(os.path.join(data_location, lyrics_folder)):\n",
    "    artist_path = os.path.join(data_location, lyrics_folder, artist_folder)\n",
    "    if os.path.isdir(artist_path):\n",
    "        for song_file in os.listdir(artist_path):\n",
    "            if song_file.endswith(\".txt\"):\n",
    "                song_path = os.path.join(artist_path, song_file)\n",
    "                with open(song_path, \"r\", encoding=\"utf-8\") as f:\n",
    "                    lyrics_data[artist_folder][song_file] = f.read()"
   ]
  },
  {
   "cell_type": "code",
   "execution_count": 7,
   "id": "6c52bc6f",
   "metadata": {},
   "outputs": [],
   "source": [
    "\n",
    "# Read in the Twitter data (focusing on the descriptions data availabe in the module 1 data given in the question)\n",
    "twitter_data = defaultdict(list)\n",
    "for twitter_file in os.listdir(os.path.join(data_location, twitter_folder)):\n",
    "    if twitter_file.endswith(\"_followers_data.txt\"):\n",
    "        artist = twitter_file.split(\"_\")[0]  # Use the prefix as the artist's name\n",
    "        with open(os.path.join(data_location, twitter_folder, twitter_file), \"r\", encoding=\"utf-8\") as f:\n",
    "            for line in f:\n",
    "                twitter_data[artist].append(line.strip())\n"
   ]
  },
  {
   "cell_type": "markdown",
   "id": "6a5f3b12",
   "metadata": {},
   "source": [
    "## Data Cleaning\n",
    "\n",
    "Now clean and tokenize your data. Remove punctuation chacters (available in the `punctuation` object in the `string` library), split on whitespace, fold to lowercase, and remove stopwords. Store your cleaned data, which must be accessible as an interable for `descriptive_stats`, in new objects or in new columns in your data frame. \n",
    "\n"
   ]
  },
  {
   "cell_type": "code",
   "execution_count": 8,
   "id": "558efb5a",
   "metadata": {},
   "outputs": [],
   "source": [
    "\n",
    "# Define the Function to clean and tokenize text.\n",
    "# This fucntion would be recalled later. \n",
    "def clean_and_tokenize(text):\n",
    "    \"\"\"\n",
    "    Clean and tokenize the input text by:\n",
    "    - Removing punctuation\n",
    "    - Converting to lowercase\n",
    "    - Removing stopwords\n",
    "    - Splitting on whitespace\n",
    "    \"\"\"\n",
    "    text = text.lower()\n",
    "    text = ''.join([char for char in text if char not in punctuation])\n",
    "    tokens = text.split()  # In this step we tokenize by splitting on whitespace.\n",
    "    tokens = [token for token in tokens if token not in sw]  # This step removes stopwords.\n",
    "    return tokens"
   ]
  },
  {
   "cell_type": "code",
   "execution_count": 9,
   "id": "23b9eb8e",
   "metadata": {},
   "outputs": [],
   "source": [
    "\n",
    "# create your clean lyrics data here\n",
    "\n",
    "clean_lyrics_data = {artist: {song: clean_and_tokenize(lyrics) for song, lyrics in songs.items()} \n",
    "                     for artist, songs in lyrics_data.items()}"
   ]
  },
  {
   "cell_type": "code",
   "execution_count": 10,
   "id": "a0742031",
   "metadata": {},
   "outputs": [],
   "source": [
    "\n",
    "# create your clean twitter data here\n",
    "\n",
    "clean_twitter_data = {artist: [clean_and_tokenize(desc) for desc in descriptions] \n",
    "                      for artist, descriptions in twitter_data.items()}"
   ]
  },
  {
   "cell_type": "markdown",
   "id": "f2dd0179",
   "metadata": {},
   "source": [
    "## Basic Descriptive Statistics\n",
    "\n",
    "Call your `descriptive_stats` function on both your lyrics data and your twitter data and for both artists (four total calls). "
   ]
  },
  {
   "cell_type": "code",
   "execution_count": 26,
   "id": "b2d82059",
   "metadata": {},
   "outputs": [
    {
     "name": "stdout",
     "output_type": "stream",
     "text": [
      "\n",
      "Descriptive stats for robyn_88days.txt:\n",
      "There are 205 tokens in the data.\n",
      "There are 80 unique tokens in the data.\n",
      "There are 887 characters in the data.\n",
      "The lexical diversity is 0.390 in the data.\n",
      "\n",
      "Descriptive stats for robyn_aintnothing.txt:\n",
      "There are 66 tokens in the data.\n",
      "There are 40 unique tokens in the data.\n",
      "There are 305 characters in the data.\n",
      "The lexical diversity is 0.606 in the data.\n",
      "\n",
      "Descriptive stats for robyn_anytimeyoulike.txt:\n",
      "There are 119 tokens in the data.\n",
      "There are 56 unique tokens in the data.\n",
      "There are 578 characters in the data.\n",
      "The lexical diversity is 0.471 in the data.\n",
      "\n",
      "Descriptive stats for robyn_babyforgiveme.txt:\n",
      "There are 77 tokens in the data.\n",
      "There are 34 unique tokens in the data.\n",
      "There are 343 characters in the data.\n",
      "The lexical diversity is 0.442 in the data.\n",
      "\n",
      "Descriptive stats for robyn_beach2k20.txt:\n",
      "There are 174 tokens in the data.\n",
      "There are 33 unique tokens in the data.\n",
      "There are 713 characters in the data.\n",
      "The lexical diversity is 0.190 in the data.\n",
      "\n",
      "Descriptive stats for robyn_becauseitsinthemusic.txt:\n",
      "There are 129 tokens in the data.\n",
      "There are 59 unique tokens in the data.\n",
      "There are 639 characters in the data.\n",
      "The lexical diversity is 0.457 in the data.\n",
      "\n",
      "Descriptive stats for robyn_bemine.txt:\n",
      "There are 175 tokens in the data.\n",
      "There are 83 unique tokens in the data.\n",
      "There are 857 characters in the data.\n",
      "The lexical diversity is 0.474 in the data.\n",
      "\n",
      "Descriptive stats for robyn_betweenthelines.txt:\n",
      "There are 166 tokens in the data.\n",
      "There are 51 unique tokens in the data.\n",
      "There are 785 characters in the data.\n",
      "The lexical diversity is 0.307 in the data.\n",
      "\n",
      "Descriptive stats for robyn_bigcity.txt:\n",
      "There are 181 tokens in the data.\n",
      "There are 76 unique tokens in the data.\n",
      "There are 856 characters in the data.\n",
      "The lexical diversity is 0.420 in the data.\n",
      "\n",
      "Descriptive stats for robyn_bionicwoman.txt:\n",
      "There are 10 tokens in the data.\n",
      "There are 10 unique tokens in the data.\n",
      "There are 67 characters in the data.\n",
      "The lexical diversity is 1.000 in the data.\n"
     ]
    }
   ],
   "source": [
    "# Display descriptive stats for the first 10 songs from Robyn's lyrics\n",
    "for i, (song, tokens) in enumerate(clean_lyrics_data['robyn'].items()):\n",
    "    if i == 10:  # Limit to 10 songs\n",
    "        break\n",
    "    print(f\"\\nDescriptive stats for {song}:\")\n",
    "    descriptive_stats(tokens)\n"
   ]
  },
  {
   "cell_type": "code",
   "execution_count": 29,
   "id": "2ffbfe26",
   "metadata": {},
   "outputs": [],
   "source": [
    "# Display descriptive stats for Robyn's lyrics\n",
    "#for song, tokens in clean_lyrics_data['robyn'].items():\n",
    "#    print(f\"\\nDescriptive stats for {song}:\")\n",
    "#    descriptive_stats(tokens)"
   ]
  },
  {
   "cell_type": "code",
   "execution_count": 27,
   "id": "dea63a09",
   "metadata": {},
   "outputs": [
    {
     "name": "stdout",
     "output_type": "stream",
     "text": [
      "\n",
      "Descriptive stats for cher_88degrees.txt:\n",
      "There are 182 tokens in the data.\n",
      "There are 82 unique tokens in the data.\n",
      "There are 831 characters in the data.\n",
      "The lexical diversity is 0.451 in the data.\n",
      "\n",
      "Descriptive stats for cher_adifferentkindoflovesong.txt:\n",
      "There are 137 tokens in the data.\n",
      "There are 41 unique tokens in the data.\n",
      "There are 691 characters in the data.\n",
      "The lexical diversity is 0.299 in the data.\n",
      "\n",
      "Descriptive stats for cher_afterall.txt:\n",
      "There are 120 tokens in the data.\n",
      "There are 59 unique tokens in the data.\n",
      "There are 603 characters in the data.\n",
      "The lexical diversity is 0.492 in the data.\n",
      "\n",
      "Descriptive stats for cher_again.txt:\n",
      "There are 34 tokens in the data.\n",
      "There are 28 unique tokens in the data.\n",
      "There are 143 characters in the data.\n",
      "The lexical diversity is 0.824 in the data.\n",
      "\n",
      "Descriptive stats for cher_alfie.txt:\n",
      "There are 67 tokens in the data.\n",
      "There are 46 unique tokens in the data.\n",
      "There are 339 characters in the data.\n",
      "The lexical diversity is 0.687 in the data.\n",
      "\n",
      "Descriptive stats for cher_aliveagain.txt:\n",
      "There are 104 tokens in the data.\n",
      "There are 72 unique tokens in the data.\n",
      "There are 491 characters in the data.\n",
      "The lexical diversity is 0.692 in the data.\n",
      "\n",
      "Descriptive stats for cher_allbecauseofyou.txt:\n",
      "There are 94 tokens in the data.\n",
      "There are 54 unique tokens in the data.\n",
      "There are 461 characters in the data.\n",
      "The lexical diversity is 0.574 in the data.\n",
      "\n",
      "Descriptive stats for cher_allireallywanttodo.txt:\n",
      "There are 83 tokens in the data.\n",
      "There are 48 unique tokens in the data.\n",
      "There are 462 characters in the data.\n",
      "The lexical diversity is 0.578 in the data.\n",
      "\n",
      "Descriptive stats for cher_allornothing.txt:\n",
      "There are 134 tokens in the data.\n",
      "There are 43 unique tokens in the data.\n",
      "There are 663 characters in the data.\n",
      "The lexical diversity is 0.321 in the data.\n",
      "\n",
      "Descriptive stats for cher_amiblue.txt:\n",
      "There are 68 tokens in the data.\n",
      "There are 29 unique tokens in the data.\n",
      "There are 241 characters in the data.\n",
      "The lexical diversity is 0.426 in the data.\n"
     ]
    }
   ],
   "source": [
    "# Display descriptive stats for the first 10 songs from Cher's lyrics\n",
    "for i, (song, tokens) in enumerate(clean_lyrics_data['cher'].items()):\n",
    "    if i == 10:  # Limiting to 10 songs\n",
    "        break\n",
    "    print(f\"\\nDescriptive stats for {song}:\")\n",
    "    descriptive_stats(tokens)\n"
   ]
  },
  {
   "cell_type": "code",
   "execution_count": 28,
   "id": "a7a42b0c",
   "metadata": {},
   "outputs": [],
   "source": [
    "# Display descriptive stats for Cher's lyrics\n",
    "#for song, tokens in clean_lyrics_data['cher'].items():\n",
    "#    print(f\"\\nDescriptive stats for {song}:\")\n",
    "#    descriptive_stats(tokens)\n"
   ]
  },
  {
   "cell_type": "code",
   "execution_count": 13,
   "id": "65e097a2",
   "metadata": {},
   "outputs": [
    {
     "name": "stdout",
     "output_type": "stream",
     "text": [
      "There are 7 tokens in the data.\n",
      "There are 7 unique tokens in the data.\n",
      "There are 61 characters in the data.\n",
      "The lexical diversity is 1.000 in the data.\n",
      "There are 6 tokens in the data.\n",
      "There are 6 unique tokens in the data.\n",
      "There are 33 characters in the data.\n",
      "The lexical diversity is 1.000 in the data.\n",
      "There are 12 tokens in the data.\n",
      "There are 12 unique tokens in the data.\n",
      "There are 75 characters in the data.\n",
      "The lexical diversity is 1.000 in the data.\n",
      "There are 8 tokens in the data.\n",
      "There are 8 unique tokens in the data.\n",
      "There are 79 characters in the data.\n",
      "The lexical diversity is 1.000 in the data.\n",
      "There are 6 tokens in the data.\n",
      "There are 6 unique tokens in the data.\n",
      "There are 32 characters in the data.\n",
      "The lexical diversity is 1.000 in the data.\n",
      "There are 24 tokens in the data.\n",
      "There are 22 unique tokens in the data.\n",
      "There are 163 characters in the data.\n",
      "The lexical diversity is 0.917 in the data.\n",
      "There are 6 tokens in the data.\n",
      "There are 6 unique tokens in the data.\n",
      "There are 44 characters in the data.\n",
      "The lexical diversity is 1.000 in the data.\n",
      "There are 14 tokens in the data.\n",
      "There are 14 unique tokens in the data.\n",
      "There are 89 characters in the data.\n",
      "The lexical diversity is 1.000 in the data.\n",
      "There are 7 tokens in the data.\n",
      "There are 7 unique tokens in the data.\n",
      "There are 50 characters in the data.\n",
      "The lexical diversity is 1.000 in the data.\n",
      "There are 6 tokens in the data.\n",
      "There are 6 unique tokens in the data.\n",
      "There are 49 characters in the data.\n",
      "The lexical diversity is 1.000 in the data.\n",
      "There are 16 tokens in the data.\n",
      "There are 14 unique tokens in the data.\n",
      "There are 92 characters in the data.\n",
      "The lexical diversity is 0.875 in the data.\n",
      "There are 9 tokens in the data.\n",
      "There are 9 unique tokens in the data.\n",
      "There are 52 characters in the data.\n",
      "The lexical diversity is 1.000 in the data.\n",
      "There are 5 tokens in the data.\n",
      "There are 5 unique tokens in the data.\n",
      "There are 55 characters in the data.\n",
      "The lexical diversity is 1.000 in the data.\n",
      "There are 13 tokens in the data.\n",
      "There are 13 unique tokens in the data.\n",
      "There are 108 characters in the data.\n",
      "The lexical diversity is 1.000 in the data.\n",
      "There are 5 tokens in the data.\n",
      "There are 5 unique tokens in the data.\n",
      "There are 40 characters in the data.\n",
      "The lexical diversity is 1.000 in the data.\n",
      "There are 5 tokens in the data.\n",
      "There are 5 unique tokens in the data.\n",
      "There are 31 characters in the data.\n",
      "The lexical diversity is 1.000 in the data.\n",
      "There are 7 tokens in the data.\n",
      "There are 7 unique tokens in the data.\n",
      "There are 54 characters in the data.\n",
      "The lexical diversity is 1.000 in the data.\n",
      "There are 6 tokens in the data.\n",
      "There are 6 unique tokens in the data.\n",
      "There are 44 characters in the data.\n",
      "The lexical diversity is 1.000 in the data.\n",
      "There are 16 tokens in the data.\n",
      "There are 16 unique tokens in the data.\n",
      "There are 108 characters in the data.\n",
      "The lexical diversity is 1.000 in the data.\n",
      "There are 7 tokens in the data.\n",
      "There are 7 unique tokens in the data.\n",
      "There are 48 characters in the data.\n",
      "The lexical diversity is 1.000 in the data.\n",
      "There are 7 tokens in the data.\n",
      "There are 7 unique tokens in the data.\n",
      "There are 39 characters in the data.\n",
      "The lexical diversity is 1.000 in the data.\n",
      "There are 6 tokens in the data.\n",
      "There are 6 unique tokens in the data.\n",
      "There are 35 characters in the data.\n",
      "The lexical diversity is 1.000 in the data.\n",
      "There are 10 tokens in the data.\n",
      "There are 10 unique tokens in the data.\n",
      "There are 64 characters in the data.\n",
      "The lexical diversity is 1.000 in the data.\n",
      "There are 10 tokens in the data.\n",
      "There are 10 unique tokens in the data.\n",
      "There are 52 characters in the data.\n",
      "The lexical diversity is 1.000 in the data.\n",
      "There are 23 tokens in the data.\n",
      "There are 23 unique tokens in the data.\n",
      "There are 132 characters in the data.\n",
      "The lexical diversity is 1.000 in the data.\n"
     ]
    }
   ],
   "source": [
    "# We are limiting to first 25 as considering complete takes long time. \n",
    "\n",
    "# Limit to the first 25 descriptions for debugging\n",
    "for desc_tokens in clean_twitter_data['cher'][:25]:\n",
    "    descriptive_stats(desc_tokens)\n"
   ]
  },
  {
   "cell_type": "code",
   "execution_count": 14,
   "id": "07003287",
   "metadata": {},
   "outputs": [
    {
     "name": "stdout",
     "output_type": "stream",
     "text": [
      "There are 7 tokens in the data.\n",
      "There are 7 unique tokens in the data.\n",
      "There are 61 characters in the data.\n",
      "The lexical diversity is 1.000 in the data.\n",
      "There are 15 tokens in the data.\n",
      "There are 15 unique tokens in the data.\n",
      "There are 130 characters in the data.\n",
      "The lexical diversity is 1.000 in the data.\n",
      "There are 21 tokens in the data.\n",
      "There are 21 unique tokens in the data.\n",
      "There are 130 characters in the data.\n",
      "The lexical diversity is 1.000 in the data.\n",
      "There are 30 tokens in the data.\n",
      "There are 28 unique tokens in the data.\n",
      "There are 143 characters in the data.\n",
      "The lexical diversity is 0.933 in the data.\n",
      "There are 27 tokens in the data.\n",
      "There are 26 unique tokens in the data.\n",
      "There are 152 characters in the data.\n",
      "The lexical diversity is 0.963 in the data.\n",
      "There are 18 tokens in the data.\n",
      "There are 17 unique tokens in the data.\n",
      "There are 132 characters in the data.\n",
      "The lexical diversity is 0.944 in the data.\n",
      "There are 5 tokens in the data.\n",
      "There are 5 unique tokens in the data.\n",
      "There are 44 characters in the data.\n",
      "The lexical diversity is 1.000 in the data.\n",
      "There are 7 tokens in the data.\n",
      "There are 7 unique tokens in the data.\n",
      "There are 36 characters in the data.\n",
      "The lexical diversity is 1.000 in the data.\n",
      "There are 9 tokens in the data.\n",
      "There are 9 unique tokens in the data.\n",
      "There are 63 characters in the data.\n",
      "The lexical diversity is 1.000 in the data.\n",
      "There are 20 tokens in the data.\n",
      "There are 20 unique tokens in the data.\n",
      "There are 138 characters in the data.\n",
      "The lexical diversity is 1.000 in the data.\n",
      "There are 12 tokens in the data.\n",
      "There are 12 unique tokens in the data.\n",
      "There are 62 characters in the data.\n",
      "The lexical diversity is 1.000 in the data.\n",
      "There are 9 tokens in the data.\n",
      "There are 9 unique tokens in the data.\n",
      "There are 66 characters in the data.\n",
      "The lexical diversity is 1.000 in the data.\n",
      "There are 24 tokens in the data.\n",
      "There are 22 unique tokens in the data.\n",
      "There are 150 characters in the data.\n",
      "The lexical diversity is 0.917 in the data.\n",
      "There are 10 tokens in the data.\n",
      "There are 10 unique tokens in the data.\n",
      "There are 65 characters in the data.\n",
      "The lexical diversity is 1.000 in the data.\n",
      "There are 5 tokens in the data.\n",
      "There are 5 unique tokens in the data.\n",
      "There are 52 characters in the data.\n",
      "The lexical diversity is 1.000 in the data.\n",
      "There are 12 tokens in the data.\n",
      "There are 10 unique tokens in the data.\n",
      "There are 76 characters in the data.\n",
      "The lexical diversity is 0.833 in the data.\n",
      "There are 8 tokens in the data.\n",
      "There are 8 unique tokens in the data.\n",
      "There are 66 characters in the data.\n",
      "The lexical diversity is 1.000 in the data.\n",
      "There are 23 tokens in the data.\n",
      "There are 22 unique tokens in the data.\n",
      "There are 119 characters in the data.\n",
      "The lexical diversity is 0.957 in the data.\n",
      "There are 7 tokens in the data.\n",
      "There are 7 unique tokens in the data.\n",
      "There are 55 characters in the data.\n",
      "The lexical diversity is 1.000 in the data.\n",
      "There are 17 tokens in the data.\n",
      "There are 17 unique tokens in the data.\n",
      "There are 103 characters in the data.\n",
      "The lexical diversity is 1.000 in the data.\n",
      "There are 13 tokens in the data.\n",
      "There are 13 unique tokens in the data.\n",
      "There are 75 characters in the data.\n",
      "The lexical diversity is 1.000 in the data.\n",
      "There are 10 tokens in the data.\n",
      "There are 10 unique tokens in the data.\n",
      "There are 81 characters in the data.\n",
      "The lexical diversity is 1.000 in the data.\n",
      "There are 18 tokens in the data.\n",
      "There are 18 unique tokens in the data.\n",
      "There are 127 characters in the data.\n",
      "The lexical diversity is 1.000 in the data.\n",
      "There are 23 tokens in the data.\n",
      "There are 23 unique tokens in the data.\n",
      "There are 138 characters in the data.\n",
      "The lexical diversity is 1.000 in the data.\n",
      "There are 11 tokens in the data.\n",
      "There are 11 unique tokens in the data.\n",
      "There are 67 characters in the data.\n",
      "The lexical diversity is 1.000 in the data.\n"
     ]
    }
   ],
   "source": [
    "# We are limiting to first 25 as considering complete takes long time. \n",
    "\n",
    "# Limit to the first 25 descriptions for Robyn for debugging\n",
    "for desc_tokens in clean_twitter_data['robynkonichiwa'][:25]:\n",
    "    descriptive_stats(desc_tokens)\n"
   ]
  },
  {
   "cell_type": "markdown",
   "id": "46294409",
   "metadata": {},
   "source": [
    "Q: How do you think the \"top 5 words\" would be different if we left stopwords in the data? \n",
    "\n",
    "A: If there were left stopword, top 5 words would be definitely be different. In fact the top 5 word would mostly include common, general words such as \"and\", \"of\", etc. These word would are genrally used words and does not contain meanings. In this way, we would miss the peculiar vocabulary words of the artist lyrics or twitter descriptions. \n",
    "\n",
    "---\n",
    "\n",
    "Q: What were your prior beliefs about the lexical diversity between the artists? Does the difference (or lack thereof) in lexical diversity between the artists conform to your prior beliefs? \n",
    "\n",
    "A: After some research, I found Cher had longer career, wide range of songs and Robyn has modern electronic style of composing songs. I thought Cher would have greater lexical diversity. As, I observed the anaysis result, this assumed were concurred on some songs and rejected on some other songs. I conluded lexical diversity fluctuates significnatly between the songs of both artists. \n"
   ]
  },
  {
   "cell_type": "markdown",
   "id": "4d4e1ac1",
   "metadata": {},
   "source": [
    "\n",
    "## Specialty Statistics\n",
    "\n",
    "The descriptive statistics we have calculated are quite generic. You will now calculate a handful of statistics tailored to these data.\n",
    "\n",
    "1. Ten most common emojis by artist in the twitter descriptions.\n",
    "1. Ten most common hashtags by artist in the twitter descriptions.\n",
    "1. Five most common words in song titles by artist. \n",
    "1. For each artist, a histogram of song lengths (in terms of number of tokens) \n",
    "\n",
    "We can use the `emoji` library to help us identify emojis and you have been given a function to help you.\n"
   ]
  },
  {
   "cell_type": "code",
   "execution_count": 15,
   "id": "753a5a3e",
   "metadata": {},
   "outputs": [],
   "source": [
    "assert(emoji.is_emoji(\"❤️\"))\n",
    "assert(not emoji.is_emoji(\":-)\"))"
   ]
  },
  {
   "cell_type": "markdown",
   "id": "986fc4c0",
   "metadata": {},
   "source": [
    "### Emojis 😁\n",
    "\n",
    "What are the ten most common emojis by artist in the twitter descriptions? \n"
   ]
  },
  {
   "cell_type": "code",
   "execution_count": 16,
   "id": "478ab80e",
   "metadata": {},
   "outputs": [
    {
     "name": "stdout",
     "output_type": "stream",
     "text": [
      "Most common emojis for cher:\n",
      "[('❤', 94506), ('🌈', 66291), ('♥', 48059), ('🏳', 47174), ('✨', 45846), ('🌊', 31234), ('💙', 31050), ('🏻', 25195), ('✌', 21963), ('💜', 21571)]\n",
      "Most common emojis for robynkonichiwa:\n",
      "[('🌈', 6086), ('❤', 5635), ('🏳', 4641), ('♥', 4249), ('✨', 3217), ('🏻', 1751), ('✌', 1495), ('♀', 1347), ('🏼', 1340), ('💙', 1200)]\n"
     ]
    }
   ],
   "source": [
    "\n",
    "# In this step we use helper function to extract emojis from a string\n",
    "def extract_emojis(text):\n",
    "    return [char for char in text if emoji.is_emoji(char)]\n",
    "\n",
    "# Counting the most common emojis by artist\n",
    "common_emojis_by_artist = defaultdict(Counter)\n",
    "\n",
    "for artist, descriptions in twitter_data.items():\n",
    "    for desc in descriptions:\n",
    "        emojis = extract_emojis(desc)\n",
    "        common_emojis_by_artist[artist].update(emojis)\n",
    "\n",
    "# Now, the ten most common emojis for each artist\n",
    "for artist, emoji_counter in common_emojis_by_artist.items():\n",
    "    print(f\"Most common emojis for {artist}:\")\n",
    "    print(emoji_counter.most_common(10))\n"
   ]
  },
  {
   "cell_type": "markdown",
   "id": "bab9b770",
   "metadata": {},
   "source": [
    "### Hashtags\n",
    "\n",
    "What are the ten most common hashtags by artist in the twitter descriptions? \n"
   ]
  },
  {
   "cell_type": "code",
   "execution_count": 17,
   "id": "5e8bd4b6",
   "metadata": {},
   "outputs": [
    {
     "name": "stdout",
     "output_type": "stream",
     "text": [
      "Most common hashtags for cher:\n",
      "[('#BLM', 10100), ('#Resist', 6161), ('#BlackLivesMatter', 4888), ('#resist', 3860), ('#FBR', 3330), ('#1', 3111), ('#TheResistance', 3044), ('#blacklivesmatter', 2738), ('#Resistance', 1953), ('#RESIST', 1878)]\n",
      "Most common hashtags for robynkonichiwa:\n",
      "[('#BlackLivesMatter', 356), ('#BLM', 345), ('#1', 228), ('#blacklivesmatter', 222), ('#music', 175), ('#Music', 114), ('#EDM', 87), ('#LGBTQ', 76), ('#blm', 60), ('#TeamFollowBack', 59)]\n"
     ]
    }
   ],
   "source": [
    "\n",
    "# In this step we are using helper function to extract hashtags from a string\n",
    "def extract_hashtags(text):\n",
    "    return re.findall(r\"#\\w+\", text)\n",
    "\n",
    "# Counting the most common hashtags by artist\n",
    "common_hashtags_by_artist = defaultdict(Counter)\n",
    "\n",
    "for artist, descriptions in twitter_data.items():\n",
    "    for desc in descriptions:\n",
    "        hashtags = extract_hashtags(desc)\n",
    "        common_hashtags_by_artist[artist].update(hashtags)\n",
    "\n",
    "# The ten most common hashtags for each artist\n",
    "for artist, hashtag_counter in common_hashtags_by_artist.items():\n",
    "    print(f\"Most common hashtags for {artist}:\")\n",
    "    print(hashtag_counter.most_common(10))\n"
   ]
  },
  {
   "cell_type": "markdown",
   "id": "d10f21d5",
   "metadata": {},
   "source": [
    "### Song Titles\n",
    "\n",
    "What are the five most common words in song titles by artist? The song titles should be on the first line of the lyrics pages, so if you have kept the raw file contents around, you will not need to re-read the data.\n"
   ]
  },
  {
   "cell_type": "code",
   "execution_count": 18,
   "id": "e821b0cc",
   "metadata": {},
   "outputs": [
    {
     "name": "stdout",
     "output_type": "stream",
     "text": [
      "Most common words in song titles for cher:\n",
      "[('love', 38), ('man', 12), ('song', 11), ('dont', 10), ('come', 7)]\n",
      "Most common words in song titles for robyn:\n",
      "[('love', 6), ('dont', 4), ('u', 4), ('thing', 3), ('girl', 3)]\n"
     ]
    }
   ],
   "source": [
    "\n",
    "# Extracting the first line (song title) from each song's lyrics\n",
    "song_title_words_by_artist = defaultdict(Counter)\n",
    "\n",
    "for artist, songs in lyrics_data.items():\n",
    "    for song, lyrics in songs.items():\n",
    "        # Extracting first line (title) and tokenize it\n",
    "        title = lyrics.split('\\n', 1)[0]  \n",
    "        title_tokens = clean_and_tokenize(title)\n",
    "        song_title_words_by_artist[artist].update(title_tokens)\n",
    "\n",
    "# Displaying the five most common words in song titles for each artist\n",
    "for artist, title_counter in song_title_words_by_artist.items():\n",
    "    print(f\"Most common words in song titles for {artist}:\")\n",
    "    print(title_counter.most_common(5))\n"
   ]
  },
  {
   "cell_type": "markdown",
   "id": "5dd4fd71",
   "metadata": {},
   "source": [
    "### Song Lengths\n",
    "\n",
    "For each artist, a histogram of song lengths (in terms of number of tokens). If you put the song lengths in a data frame with an artist column, matplotlib will make the plotting quite easy. An example is given to help you out. \n"
   ]
  },
  {
   "cell_type": "code",
   "execution_count": 20,
   "id": "44ca8ffc",
   "metadata": {},
   "outputs": [
    {
     "data": {
      "image/png": "[encoded data removed]",
      "text/plain": [
       "<Figure size 640x480 with 1 Axes>"
      ]
     },
     "metadata": {},
     "output_type": "display_data"
    }
   ],
   "source": [
    "# Calculateing song lengths (number of tokens) by artist\n",
    "song_lengths = []\n",
    "\n",
    "for artist, songs in clean_lyrics_data.items():\n",
    "    for song, tokens in songs.items():\n",
    "        song_lengths.append({'artist': artist, 'length': len(tokens)})\n",
    "\n",
    "# Createing a DataFrame for easier plotting\n",
    "df_song_lengths = pd.DataFrame(song_lengths)\n",
    "\n",
    "# Ploting histograms for each artist's song lengths\n",
    "df_song_lengths.groupby('artist')['length'].plot(kind=\"hist\", density=True, alpha=0.5, legend=True)\n",
    "plt.title(\"Song Length Distribution by Artist\")\n",
    "plt.xlabel(\"Number of Tokens\")\n",
    "plt.ylabel(\"Density\")\n",
    "plt.show()\n"
   ]
  },
  {
   "cell_type": "code",
   "execution_count": 22,
   "id": "5f4645d7",
   "metadata": {},
   "outputs": [
    {
     "data": {
      "image/png": "[encoded data removed]",
      "text/plain": [
       "<Figure size 640x480 with 1 Axes>"
      ]
     },
     "metadata": {},
     "output_type": "display_data"
    }
   ],
   "source": [
    "# Simulated Poisson Distribution: Here we are using a Poisson distribution to simulate song lengths for two different artists.\n",
    "\n",
    "# Define num_replicates\n",
    "num_replicates = 1000\n",
    "\n",
    "# Creating DataFrame with Poisson-distributed song lengths for Cher and Robyn\n",
    "df = pd.DataFrame({\n",
    "    \"artist\" : ['Cher'] * num_replicates + ['Robyn'] * num_replicates,\n",
    "    \"length\" : np.concatenate((np.random.poisson(125, num_replicates), np.random.poisson(150, num_replicates)))\n",
    "})\n",
    "\n",
    "# Plot histograms\n",
    "df.groupby('artist')['length'].plot(kind=\"hist\", density=True, alpha=0.5, legend=True)\n",
    "\n",
    "# Add labels and title\n",
    "plt.xlabel('Song Length (Tokens)')\n",
    "plt.ylabel('Density')\n",
    "plt.title('Song Length Distribution for Cher and Robyn')\n",
    "plt.legend(title=\"Artist\")\n",
    "plt.show()\n"
   ]
  },
  {
   "cell_type": "markdown",
   "id": "8fde9ebb",
   "metadata": {},
   "source": [
    "Since the lyrics may be stored with carriage returns or tabs, it may be useful to have a function that can collapse whitespace, using regular expressions, and be used for splitting. \n",
    "\n",
    "Q: What does the regular expression `'\\s+'` match on? \n",
    "\n",
    "A: This regular expression match on one or more whitespaces which is inlcusive of the spaces, tabs, newline characters, etc. + means pattern will match one or more occuracne of precesing whitespace character class of \\s. \n"
   ]
  },
  {
   "cell_type": "code",
   "execution_count": 27,
   "id": "f0e34516",
   "metadata": {},
   "outputs": [],
   "source": [
    "collapse_whitespace = re.compile(r'\\s+')\n",
    "\n",
    "def tokenize_lyrics(lyric) : \n",
    "    \"\"\"strip and split on whitespace\"\"\"\n",
    "    return([item.lower() for item in collapse_whitespace.split(lyric)])"
   ]
  },
  {
   "cell_type": "code",
   "execution_count": 23,
   "id": "1f941b2e",
   "metadata": {},
   "outputs": [],
   "source": [
    "# Regular expression to collapse multiple whitespace characters\n",
    "collapse_whitespace = re.compile(r'\\s+')\n",
    "\n",
    "# Function to clean, collapse whitespace, and tokenize lyrics\n",
    "def tokenize_lyrics(lyric):\n",
    "    \"\"\"Strip and split on whitespace\"\"\"\n",
    "    return [item.lower() for item in collapse_whitespace.split(lyric.strip())]\n",
    "\n"
   ]
  },
  {
   "cell_type": "code",
   "execution_count": 25,
   "id": "61095ce6",
   "metadata": {},
   "outputs": [
    {
     "data": {
      "image/png": "[encoded data removed]",
      "text/plain": [
       "<Figure size 640x480 with 1 Axes>"
      ]
     },
     "metadata": {},
     "output_type": "display_data"
    }
   ],
   "source": [
    "# Comparision of song by artist after collapsing multiple whitespace characters\n",
    "\n",
    "# Regular expression to collapse multiple whitespace characters\n",
    "collapse_whitespace = re.compile(r'\\s+')\n",
    "\n",
    "# Function to clean, collapse whitespace, and tokenize lyrics\n",
    "def tokenize_lyrics(lyric):\n",
    "    \"\"\"Strip and split on whitespace\"\"\"\n",
    "    return [item.lower() for item in collapse_whitespace.split(lyric.strip())]\n",
    "\n",
    "data_location = \"/users/bista/OneDrive/Desktop/Desktop/ADS 509 Applied Text Mining/Assignment 2/\"\n",
    "lyrics_folder = \"lyrics/\"\n",
    "\n",
    "# Initializing data structures\n",
    "lyrics_data = {}\n",
    "\n",
    "# Loop through artists and read their lyrics\n",
    "for artist in ['cher', 'robyn']:\n",
    "    artist_path = os.path.join(data_location, lyrics_folder, artist)\n",
    "    lyrics_data[artist] = []\n",
    "    \n",
    "    # Read all songs for the artist\n",
    "    for song_file in os.listdir(artist_path):\n",
    "        if song_file.endswith(\".txt\"):\n",
    "            song_path = os.path.join(artist_path, song_file)\n",
    "            with open(song_path, \"r\", encoding=\"utf-8\") as f:\n",
    "                lyrics_data[artist].append(f.read())\n",
    "\n",
    "# Clean and tokenize the lyrics, and calculate the lengths\n",
    "song_lengths = []\n",
    "for artist, songs in lyrics_data.items():\n",
    "    for song in songs:\n",
    "        tokens = tokenize_lyrics(song)\n",
    "        song_lengths.append({'artist': artist, 'length': len(tokens)})\n",
    "\n",
    "# Create a DataFrame for easier plotting\n",
    "df_song_lengths = pd.DataFrame(song_lengths)\n",
    "\n",
    "# Plot histograms for each artist's song lengths\n",
    "df_song_lengths.groupby('artist')['length'].plot(kind=\"hist\", density=True, alpha=0.5, legend=True)\n",
    "\n",
    "# Add labels and title\n",
    "plt.xlabel('Song Length (Tokens)')\n",
    "plt.ylabel('Density')\n",
    "plt.title('Song Length Distribution by Artist')\n",
    "plt.legend(title=\"Artist\")\n",
    "plt.show()\n"
   ]
  }
 ],
 "metadata": {
  "kernelspec": {
   "display_name": "Python 3 (ipykernel)",
   "language": "python",
   "name": "python3"
  },
  "language_info": {
   "codemirror_mode": {
    "name": "ipython",
    "version": 3
   },
   "file_extension": ".py",
   "mimetype": "text/x-python",
   "name": "python",
   "nbconvert_exporter": "python",
   "pygments_lexer": "ipython3",
   "version": "3.11.1"
  }
 },
 "nbformat": 4,
 "nbformat_minor": 5
}
